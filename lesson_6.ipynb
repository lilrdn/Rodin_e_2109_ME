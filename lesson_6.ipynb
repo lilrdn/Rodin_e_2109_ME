{
 "cells": [
  {
   "cell_type": "markdown",
   "id": "7e8338ec",
   "metadata": {},
   "source": [
    "Стохастический градиентный спуск"
   ]
  },
  {
   "cell_type": "code",
   "execution_count": 48,
   "id": "b9bf16cf",
   "metadata": {},
   "outputs": [
    {
     "name": "stdout",
     "output_type": "stream",
     "text": [
      "[0.90289576 1.06689002]\n"
     ]
    }
   ],
   "source": [
    "import numpy as np\n",
    "\n",
    "def SGD(X, y, lr=0.01, epochs=2):\n",
    "    m, n = X.shape\n",
    "    theta = np.zeros(n)\n",
    "    \n",
    "    for _ in range(epochs):\n",
    "        random_idx = np.random.randint(0, m)\n",
    "        X_random = X[random_idx]\n",
    "        y_random = y[random_idx]\n",
    "        \n",
    "        gradient = 2 * X_random * (X_random.dot(theta) - y_random)\n",
    "        \n",
    "        theta = theta - lr * gradient\n",
    "        \n",
    "    return theta\n",
    "\n",
    "\n",
    "X = np.array([[1, 2], [2, 3], [3, 4]])\n",
    "y = np.array([3, 5, 7])\n",
    "\n",
    "theta = SGD(X, y, lr=0.01, epochs=1000)\n",
    "print(theta)\n"
   ]
  },
  {
   "cell_type": "code",
   "execution_count": null,
   "id": "414f7a85",
   "metadata": {},
   "outputs": [],
   "source": []
  }
 ],
 "metadata": {
  "kernelspec": {
   "display_name": "Python 3 (ipykernel)",
   "language": "python",
   "name": "python3"
  },
  "language_info": {
   "codemirror_mode": {
    "name": "ipython",
    "version": 3
   },
   "file_extension": ".py",
   "mimetype": "text/x-python",
   "name": "python",
   "nbconvert_exporter": "python",
   "pygments_lexer": "ipython3",
   "version": "3.9.13"
  }
 },
 "nbformat": 4,
 "nbformat_minor": 5
}
