{
 "cells": [
  {
   "cell_type": "code",
   "execution_count": 43,
   "id": "67e8acc3",
   "metadata": {},
   "outputs": [],
   "source": [
    "import pandas as pd\n",
    "import numpy as np\n",
    "import seaborn as sns\n",
    "\n",
    "from sklearn.model_selection import train_test_split\n",
    "from sklearn.linear_model import LinearRegression\n",
    "from sklearn.preprocessing import LabelEncoder \n",
    "from sklearn.preprocessing import PolynomialFeatures\n",
    "from sklearn.feature_selection import f_regression, SelectKBest\n",
    "import warnings\n",
    "from sklearn.preprocessing import StandardScaler\n",
    "from sklearn.metrics import r2_score\n",
    "from sklearn.preprocessing import OneHotEncoder"
   ]
  },
  {
   "cell_type": "code",
   "execution_count": 44,
   "id": "c34dda90",
   "metadata": {},
   "outputs": [],
   "source": [
    "warnings.filterwarnings('ignore')"
   ]
  },
  {
   "cell_type": "code",
   "execution_count": 45,
   "id": "b8b6a46a",
   "metadata": {},
   "outputs": [
    {
     "data": {
      "text/html": [
       "<div>\n",
       "<style scoped>\n",
       "    .dataframe tbody tr th:only-of-type {\n",
       "        vertical-align: middle;\n",
       "    }\n",
       "\n",
       "    .dataframe tbody tr th {\n",
       "        vertical-align: top;\n",
       "    }\n",
       "\n",
       "    .dataframe thead th {\n",
       "        text-align: right;\n",
       "    }\n",
       "</style>\n",
       "<table border=\"1\" class=\"dataframe\">\n",
       "  <thead>\n",
       "    <tr style=\"text-align: right;\">\n",
       "      <th></th>\n",
       "      <th>UA_Name</th>\n",
       "      <th>UA_Country</th>\n",
       "      <th>UA_Continent</th>\n",
       "      <th>Housing</th>\n",
       "      <th>Cost of Living</th>\n",
       "      <th>Startups</th>\n",
       "      <th>Venture Capital</th>\n",
       "      <th>Travel Connectivity</th>\n",
       "      <th>Commute</th>\n",
       "      <th>Business Freedom</th>\n",
       "      <th>...</th>\n",
       "      <th>Healthcare</th>\n",
       "      <th>Education</th>\n",
       "      <th>Environmental Quality</th>\n",
       "      <th>Economy</th>\n",
       "      <th>Taxation</th>\n",
       "      <th>Internet Access</th>\n",
       "      <th>Leisure &amp; Culture</th>\n",
       "      <th>Tolerance</th>\n",
       "      <th>Outdoors</th>\n",
       "      <th>Quality of Life Index</th>\n",
       "    </tr>\n",
       "  </thead>\n",
       "  <tbody>\n",
       "    <tr>\n",
       "      <th>0</th>\n",
       "      <td>Adelaide</td>\n",
       "      <td>Australia</td>\n",
       "      <td>Oceania</td>\n",
       "      <td>6.3095</td>\n",
       "      <td>4.692</td>\n",
       "      <td>3.1365</td>\n",
       "      <td>2.640</td>\n",
       "      <td>1.7765</td>\n",
       "      <td>5.33625</td>\n",
       "      <td>9.399667</td>\n",
       "      <td>...</td>\n",
       "      <td>7.936667</td>\n",
       "      <td>5.1420</td>\n",
       "      <td>8.33075</td>\n",
       "      <td>6.0695</td>\n",
       "      <td>4.5885</td>\n",
       "      <td>4.3410</td>\n",
       "      <td>4.3285</td>\n",
       "      <td>7.8220</td>\n",
       "      <td>5.5310</td>\n",
       "      <td>200.03</td>\n",
       "    </tr>\n",
       "    <tr>\n",
       "      <th>1</th>\n",
       "      <td>Raleigh</td>\n",
       "      <td>North Carolina</td>\n",
       "      <td>North America</td>\n",
       "      <td>6.1285</td>\n",
       "      <td>5.610</td>\n",
       "      <td>5.4970</td>\n",
       "      <td>5.157</td>\n",
       "      <td>1.7570</td>\n",
       "      <td>4.78425</td>\n",
       "      <td>8.671000</td>\n",
       "      <td>...</td>\n",
       "      <td>6.677333</td>\n",
       "      <td>7.1165</td>\n",
       "      <td>8.58375</td>\n",
       "      <td>6.5145</td>\n",
       "      <td>4.0620</td>\n",
       "      <td>7.9515</td>\n",
       "      <td>6.6130</td>\n",
       "      <td>7.5620</td>\n",
       "      <td>3.3905</td>\n",
       "      <td>197.30</td>\n",
       "    </tr>\n",
       "    <tr>\n",
       "      <th>2</th>\n",
       "      <td>Zurich</td>\n",
       "      <td>Switzerland</td>\n",
       "      <td>Europe</td>\n",
       "      <td>1.4730</td>\n",
       "      <td>1.000</td>\n",
       "      <td>6.2035</td>\n",
       "      <td>3.872</td>\n",
       "      <td>7.7335</td>\n",
       "      <td>5.83950</td>\n",
       "      <td>8.888000</td>\n",
       "      <td>...</td>\n",
       "      <td>7.670333</td>\n",
       "      <td>7.2875</td>\n",
       "      <td>8.64300</td>\n",
       "      <td>6.5520</td>\n",
       "      <td>6.4285</td>\n",
       "      <td>7.2675</td>\n",
       "      <td>4.9655</td>\n",
       "      <td>8.7845</td>\n",
       "      <td>5.4010</td>\n",
       "      <td>194.41</td>\n",
       "    </tr>\n",
       "    <tr>\n",
       "      <th>3</th>\n",
       "      <td>Wellington</td>\n",
       "      <td>New Zealand</td>\n",
       "      <td>Oceania</td>\n",
       "      <td>5.1345</td>\n",
       "      <td>5.161</td>\n",
       "      <td>2.4715</td>\n",
       "      <td>1.753</td>\n",
       "      <td>0.8525</td>\n",
       "      <td>6.03975</td>\n",
       "      <td>10.000000</td>\n",
       "      <td>...</td>\n",
       "      <td>8.078333</td>\n",
       "      <td>4.7560</td>\n",
       "      <td>9.60925</td>\n",
       "      <td>5.5055</td>\n",
       "      <td>5.9315</td>\n",
       "      <td>5.1745</td>\n",
       "      <td>4.5990</td>\n",
       "      <td>8.1160</td>\n",
       "      <td>6.3970</td>\n",
       "      <td>193.89</td>\n",
       "    </tr>\n",
       "    <tr>\n",
       "      <th>4</th>\n",
       "      <td>Charlotte</td>\n",
       "      <td>North Carolina</td>\n",
       "      <td>North America</td>\n",
       "      <td>5.5490</td>\n",
       "      <td>4.987</td>\n",
       "      <td>6.2480</td>\n",
       "      <td>2.878</td>\n",
       "      <td>3.6790</td>\n",
       "      <td>4.13400</td>\n",
       "      <td>8.671000</td>\n",
       "      <td>...</td>\n",
       "      <td>6.432333</td>\n",
       "      <td>3.6245</td>\n",
       "      <td>8.00925</td>\n",
       "      <td>6.5145</td>\n",
       "      <td>4.0620</td>\n",
       "      <td>6.3870</td>\n",
       "      <td>5.6060</td>\n",
       "      <td>6.7895</td>\n",
       "      <td>1.3115</td>\n",
       "      <td>193.30</td>\n",
       "    </tr>\n",
       "    <tr>\n",
       "      <th>...</th>\n",
       "      <td>...</td>\n",
       "      <td>...</td>\n",
       "      <td>...</td>\n",
       "      <td>...</td>\n",
       "      <td>...</td>\n",
       "      <td>...</td>\n",
       "      <td>...</td>\n",
       "      <td>...</td>\n",
       "      <td>...</td>\n",
       "      <td>...</td>\n",
       "      <td>...</td>\n",
       "      <td>...</td>\n",
       "      <td>...</td>\n",
       "      <td>...</td>\n",
       "      <td>...</td>\n",
       "      <td>...</td>\n",
       "      <td>...</td>\n",
       "      <td>...</td>\n",
       "      <td>...</td>\n",
       "      <td>...</td>\n",
       "      <td>...</td>\n",
       "    </tr>\n",
       "    <tr>\n",
       "      <th>182</th>\n",
       "      <td>Delhi</td>\n",
       "      <td>India</td>\n",
       "      <td>Asia</td>\n",
       "      <td>9.7520</td>\n",
       "      <td>9.869</td>\n",
       "      <td>9.8285</td>\n",
       "      <td>9.099</td>\n",
       "      <td>5.6420</td>\n",
       "      <td>3.71225</td>\n",
       "      <td>3.618000</td>\n",
       "      <td>...</td>\n",
       "      <td>3.712667</td>\n",
       "      <td>0.5120</td>\n",
       "      <td>2.20300</td>\n",
       "      <td>5.5565</td>\n",
       "      <td>3.4145</td>\n",
       "      <td>3.5880</td>\n",
       "      <td>5.6830</td>\n",
       "      <td>3.1160</td>\n",
       "      <td>1.1785</td>\n",
       "      <td>69.56</td>\n",
       "    </tr>\n",
       "    <tr>\n",
       "      <th>183</th>\n",
       "      <td>Jakarta</td>\n",
       "      <td>Indonesia</td>\n",
       "      <td>Asia</td>\n",
       "      <td>8.6710</td>\n",
       "      <td>8.471</td>\n",
       "      <td>5.6495</td>\n",
       "      <td>6.437</td>\n",
       "      <td>2.4885</td>\n",
       "      <td>3.64000</td>\n",
       "      <td>4.028667</td>\n",
       "      <td>...</td>\n",
       "      <td>4.184000</td>\n",
       "      <td>1.0275</td>\n",
       "      <td>2.48575</td>\n",
       "      <td>4.6575</td>\n",
       "      <td>6.2660</td>\n",
       "      <td>4.4990</td>\n",
       "      <td>8.1460</td>\n",
       "      <td>2.0665</td>\n",
       "      <td>7.2020</td>\n",
       "      <td>68.46</td>\n",
       "    </tr>\n",
       "    <tr>\n",
       "      <th>184</th>\n",
       "      <td>Lagos</td>\n",
       "      <td>Nigeria</td>\n",
       "      <td>Africa</td>\n",
       "      <td>7.7670</td>\n",
       "      <td>9.098</td>\n",
       "      <td>6.4335</td>\n",
       "      <td>2.510</td>\n",
       "      <td>1.7480</td>\n",
       "      <td>3.56475</td>\n",
       "      <td>3.255667</td>\n",
       "      <td>...</td>\n",
       "      <td>2.862333</td>\n",
       "      <td>0.0000</td>\n",
       "      <td>1.90725</td>\n",
       "      <td>5.0610</td>\n",
       "      <td>6.2155</td>\n",
       "      <td>1.6340</td>\n",
       "      <td>1.3585</td>\n",
       "      <td>1.4060</td>\n",
       "      <td>3.8245</td>\n",
       "      <td>50.72</td>\n",
       "    </tr>\n",
       "    <tr>\n",
       "      <th>185</th>\n",
       "      <td>Manila</td>\n",
       "      <td>Philippines</td>\n",
       "      <td>Asia</td>\n",
       "      <td>8.5955</td>\n",
       "      <td>8.752</td>\n",
       "      <td>4.8050</td>\n",
       "      <td>3.547</td>\n",
       "      <td>2.6345</td>\n",
       "      <td>3.71300</td>\n",
       "      <td>4.592333</td>\n",
       "      <td>...</td>\n",
       "      <td>4.297667</td>\n",
       "      <td>0.0000</td>\n",
       "      <td>1.68300</td>\n",
       "      <td>5.0065</td>\n",
       "      <td>4.3030</td>\n",
       "      <td>4.6080</td>\n",
       "      <td>7.5840</td>\n",
       "      <td>5.5030</td>\n",
       "      <td>4.8255</td>\n",
       "      <td>41.88</td>\n",
       "    </tr>\n",
       "    <tr>\n",
       "      <th>186</th>\n",
       "      <td>Tehran</td>\n",
       "      <td>Iran</td>\n",
       "      <td>Asia</td>\n",
       "      <td>8.3030</td>\n",
       "      <td>9.544</td>\n",
       "      <td>4.3865</td>\n",
       "      <td>0.000</td>\n",
       "      <td>3.1750</td>\n",
       "      <td>3.79950</td>\n",
       "      <td>4.342667</td>\n",
       "      <td>...</td>\n",
       "      <td>5.312333</td>\n",
       "      <td>0.5100</td>\n",
       "      <td>2.94250</td>\n",
       "      <td>3.9435</td>\n",
       "      <td>4.0525</td>\n",
       "      <td>1.5760</td>\n",
       "      <td>6.5210</td>\n",
       "      <td>4.2225</td>\n",
       "      <td>5.5000</td>\n",
       "      <td>35.22</td>\n",
       "    </tr>\n",
       "  </tbody>\n",
       "</table>\n",
       "<p>187 rows × 21 columns</p>\n",
       "</div>"
      ],
      "text/plain": [
       "        UA_Name       UA_Country   UA_Continent  Housing  Cost of Living  \\\n",
       "0      Adelaide        Australia        Oceania   6.3095           4.692   \n",
       "1       Raleigh   North Carolina  North America   6.1285           5.610   \n",
       "2        Zurich      Switzerland         Europe   1.4730           1.000   \n",
       "3    Wellington      New Zealand        Oceania   5.1345           5.161   \n",
       "4     Charlotte   North Carolina  North America   5.5490           4.987   \n",
       "..          ...              ...            ...      ...             ...   \n",
       "182       Delhi            India           Asia   9.7520           9.869   \n",
       "183     Jakarta        Indonesia           Asia   8.6710           8.471   \n",
       "184       Lagos          Nigeria         Africa   7.7670           9.098   \n",
       "185      Manila      Philippines           Asia   8.5955           8.752   \n",
       "186      Tehran             Iran           Asia   8.3030           9.544   \n",
       "\n",
       "     Startups  Venture Capital  Travel Connectivity  Commute  \\\n",
       "0      3.1365            2.640               1.7765  5.33625   \n",
       "1      5.4970            5.157               1.7570  4.78425   \n",
       "2      6.2035            3.872               7.7335  5.83950   \n",
       "3      2.4715            1.753               0.8525  6.03975   \n",
       "4      6.2480            2.878               3.6790  4.13400   \n",
       "..        ...              ...                  ...      ...   \n",
       "182    9.8285            9.099               5.6420  3.71225   \n",
       "183    5.6495            6.437               2.4885  3.64000   \n",
       "184    6.4335            2.510               1.7480  3.56475   \n",
       "185    4.8050            3.547               2.6345  3.71300   \n",
       "186    4.3865            0.000               3.1750  3.79950   \n",
       "\n",
       "     Business Freedom  ...  Healthcare  Education  Environmental Quality  \\\n",
       "0            9.399667  ...    7.936667     5.1420                8.33075   \n",
       "1            8.671000  ...    6.677333     7.1165                8.58375   \n",
       "2            8.888000  ...    7.670333     7.2875                8.64300   \n",
       "3           10.000000  ...    8.078333     4.7560                9.60925   \n",
       "4            8.671000  ...    6.432333     3.6245                8.00925   \n",
       "..                ...  ...         ...        ...                    ...   \n",
       "182          3.618000  ...    3.712667     0.5120                2.20300   \n",
       "183          4.028667  ...    4.184000     1.0275                2.48575   \n",
       "184          3.255667  ...    2.862333     0.0000                1.90725   \n",
       "185          4.592333  ...    4.297667     0.0000                1.68300   \n",
       "186          4.342667  ...    5.312333     0.5100                2.94250   \n",
       "\n",
       "     Economy  Taxation  Internet Access  Leisure & Culture  Tolerance  \\\n",
       "0     6.0695    4.5885           4.3410             4.3285     7.8220   \n",
       "1     6.5145    4.0620           7.9515             6.6130     7.5620   \n",
       "2     6.5520    6.4285           7.2675             4.9655     8.7845   \n",
       "3     5.5055    5.9315           5.1745             4.5990     8.1160   \n",
       "4     6.5145    4.0620           6.3870             5.6060     6.7895   \n",
       "..       ...       ...              ...                ...        ...   \n",
       "182   5.5565    3.4145           3.5880             5.6830     3.1160   \n",
       "183   4.6575    6.2660           4.4990             8.1460     2.0665   \n",
       "184   5.0610    6.2155           1.6340             1.3585     1.4060   \n",
       "185   5.0065    4.3030           4.6080             7.5840     5.5030   \n",
       "186   3.9435    4.0525           1.5760             6.5210     4.2225   \n",
       "\n",
       "     Outdoors  Quality of Life Index  \n",
       "0      5.5310                 200.03  \n",
       "1      3.3905                 197.30  \n",
       "2      5.4010                 194.41  \n",
       "3      6.3970                 193.89  \n",
       "4      1.3115                 193.30  \n",
       "..        ...                    ...  \n",
       "182    1.1785                  69.56  \n",
       "183    7.2020                  68.46  \n",
       "184    3.8245                  50.72  \n",
       "185    4.8255                  41.88  \n",
       "186    5.5000                  35.22  \n",
       "\n",
       "[187 rows x 21 columns]"
      ]
     },
     "execution_count": 45,
     "metadata": {},
     "output_type": "execute_result"
    }
   ],
   "source": [
    "df = pd.read_csv('city_united.csv')\n",
    "df"
   ]
  },
  {
   "cell_type": "code",
   "execution_count": 46,
   "id": "f2368621",
   "metadata": {},
   "outputs": [
    {
     "data": {
      "text/html": [
       "<div>\n",
       "<style scoped>\n",
       "    .dataframe tbody tr th:only-of-type {\n",
       "        vertical-align: middle;\n",
       "    }\n",
       "\n",
       "    .dataframe tbody tr th {\n",
       "        vertical-align: top;\n",
       "    }\n",
       "\n",
       "    .dataframe thead th {\n",
       "        text-align: right;\n",
       "    }\n",
       "</style>\n",
       "<table border=\"1\" class=\"dataframe\">\n",
       "  <thead>\n",
       "    <tr style=\"text-align: right;\">\n",
       "      <th></th>\n",
       "      <th>UA_Name</th>\n",
       "      <th>UA_Country</th>\n",
       "      <th>UA_Continent</th>\n",
       "      <th>Housing</th>\n",
       "      <th>Cost of Living</th>\n",
       "      <th>Startups</th>\n",
       "      <th>Venture Capital</th>\n",
       "      <th>Travel Connectivity</th>\n",
       "      <th>Commute</th>\n",
       "      <th>Business Freedom</th>\n",
       "      <th>...</th>\n",
       "      <th>Healthcare</th>\n",
       "      <th>Education</th>\n",
       "      <th>Environmental Quality</th>\n",
       "      <th>Economy</th>\n",
       "      <th>Taxation</th>\n",
       "      <th>Internet Access</th>\n",
       "      <th>Leisure &amp; Culture</th>\n",
       "      <th>Tolerance</th>\n",
       "      <th>Outdoors</th>\n",
       "      <th>Quality of Life Index</th>\n",
       "    </tr>\n",
       "  </thead>\n",
       "  <tbody>\n",
       "  </tbody>\n",
       "</table>\n",
       "<p>0 rows × 21 columns</p>\n",
       "</div>"
      ],
      "text/plain": [
       "Empty DataFrame\n",
       "Columns: [UA_Name, UA_Country, UA_Continent, Housing, Cost of Living, Startups, Venture Capital, Travel Connectivity, Commute, Business Freedom, Safety, Healthcare, Education, Environmental Quality, Economy, Taxation, Internet Access, Leisure & Culture, Tolerance, Outdoors, Quality of Life Index]\n",
       "Index: []\n",
       "\n",
       "[0 rows x 21 columns]"
      ]
     },
     "execution_count": 46,
     "metadata": {},
     "output_type": "execute_result"
    }
   ],
   "source": [
    "df[df.duplicated()]"
   ]
  },
  {
   "cell_type": "code",
   "execution_count": 47,
   "id": "f12b0c29",
   "metadata": {},
   "outputs": [
    {
     "name": "stdout",
     "output_type": "stream",
     "text": [
      "<class 'pandas.core.frame.DataFrame'>\n",
      "RangeIndex: 187 entries, 0 to 186\n",
      "Data columns (total 21 columns):\n",
      " #   Column                 Non-Null Count  Dtype  \n",
      "---  ------                 --------------  -----  \n",
      " 0   UA_Name                187 non-null    object \n",
      " 1   UA_Country             187 non-null    object \n",
      " 2   UA_Continent           187 non-null    object \n",
      " 3   Housing                187 non-null    float64\n",
      " 4   Cost of Living         187 non-null    float64\n",
      " 5   Startups               187 non-null    float64\n",
      " 6   Venture Capital        187 non-null    float64\n",
      " 7   Travel Connectivity    187 non-null    float64\n",
      " 8   Commute                187 non-null    float64\n",
      " 9   Business Freedom       187 non-null    float64\n",
      " 10  Safety                 187 non-null    float64\n",
      " 11  Healthcare             187 non-null    float64\n",
      " 12  Education              187 non-null    float64\n",
      " 13  Environmental Quality  187 non-null    float64\n",
      " 14  Economy                187 non-null    float64\n",
      " 15  Taxation               187 non-null    float64\n",
      " 16  Internet Access        187 non-null    float64\n",
      " 17  Leisure & Culture      187 non-null    float64\n",
      " 18  Tolerance              187 non-null    float64\n",
      " 19  Outdoors               187 non-null    float64\n",
      " 20  Quality of Life Index  187 non-null    float64\n",
      "dtypes: float64(18), object(3)\n",
      "memory usage: 30.8+ KB\n"
     ]
    }
   ],
   "source": [
    "df.info()"
   ]
  },
  {
   "cell_type": "code",
   "execution_count": 48,
   "id": "649128cd",
   "metadata": {},
   "outputs": [
    {
     "data": {
      "text/plain": [
       "10"
      ]
     },
     "execution_count": 48,
     "metadata": {},
     "output_type": "execute_result"
    },
    {
     "data": {
      "image/png": "[encoded data removed]",
      "text/plain": [
       "<Figure size 640x480 with 1 Axes>"
      ]
     },
     "metadata": {},
     "output_type": "display_data"
    }
   ],
   "source": [
    "df['Commute'].plot.box()\n",
    "stat = df.describe()\n",
    "q3 = stat['Commute']['75%']\n",
    "q1 = stat['Commute']['25%']\n",
    "iqr = q3-q1\n",
    "iqr_min = q1 - 1.5 * iqr\n",
    "iqr_max = q3 + 1.5 * iqr\n",
    "df.loc[df['Commute'] < iqr_min].shape[0]"
   ]
  },
  {
   "cell_type": "markdown",
   "id": "2345bd55",
   "metadata": {},
   "source": [
    "удалять выбросы нет смысла и так маленький объем данных"
   ]
  },
  {
   "cell_type": "markdown",
   "id": "7f35e773",
   "metadata": {},
   "source": [
    "Изначальная модель регрессии"
   ]
  },
  {
   "cell_type": "code",
   "execution_count": 49,
   "id": "e6ce7459",
   "metadata": {},
   "outputs": [],
   "source": [
    "#df = pd.get_dummies(df, columns=catigorial)\n",
    "#df"
   ]
  },
  {
   "cell_type": "markdown",
   "id": "35dc1bdb",
   "metadata": {},
   "source": [
    "с разбиением катигориальных переменных получается r2=-3 так что уберем их"
   ]
  },
  {
   "cell_type": "code",
   "execution_count": 50,
   "id": "084bb719",
   "metadata": {},
   "outputs": [],
   "source": [
    "catigorial = ['UA_Name', 'UA_Country', 'UA_Continent']"
   ]
  },
  {
   "cell_type": "code",
   "execution_count": 51,
   "id": "aa8304f0",
   "metadata": {},
   "outputs": [],
   "source": [
    "X = df.drop([\"Quality of Life Index\"]+catigorial, axis=1)\n",
    "y = df[[\"Quality of Life Index\"]]"
   ]
  },
  {
   "cell_type": "code",
   "execution_count": 52,
   "id": "17473bda",
   "metadata": {},
   "outputs": [],
   "source": [
    "train_X, test_X, train_y, test_y = train_test_split(X, y, test_size=0.33, random_state=42)"
   ]
  },
  {
   "cell_type": "code",
   "execution_count": 53,
   "id": "2d59bac7",
   "metadata": {},
   "outputs": [],
   "source": [
    "poly = PolynomialFeatures(2)\n",
    "train_X = pd.DataFrame(poly.fit_transform(train_X), columns=poly.get_feature_names_out())\n",
    "test_X = pd.DataFrame(poly.transform(test_X), columns=poly.get_feature_names_out())"
   ]
  },
  {
   "cell_type": "code",
   "execution_count": 54,
   "id": "3bca7dcc",
   "metadata": {},
   "outputs": [],
   "source": [
    "f_static, p_values = f_regression(train_X, train_y)\n",
    "selector = SelectKBest(f_regression, k=5)"
   ]
  },
  {
   "cell_type": "code",
   "execution_count": 55,
   "id": "97656aad",
   "metadata": {},
   "outputs": [],
   "source": [
    "train_X = pd.DataFrame(selector.fit_transform(train_X, train_y), columns=selector.get_feature_names_out())\n",
    "test_X = pd.DataFrame(selector.transform(test_X), columns=selector.get_feature_names_out())"
   ]
  },
  {
   "cell_type": "code",
   "execution_count": 56,
   "id": "c46d1c24",
   "metadata": {},
   "outputs": [],
   "source": [
    "scaler = StandardScaler()\n",
    "train_X = scaler.fit_transform(train_X)\n",
    "test_X = scaler.transform(test_X)"
   ]
  },
  {
   "cell_type": "code",
   "execution_count": 57,
   "id": "48bae678",
   "metadata": {},
   "outputs": [],
   "source": [
    "reg = LinearRegression().fit(train_X, train_y)"
   ]
  },
  {
   "cell_type": "code",
   "execution_count": 58,
   "id": "a279d63e",
   "metadata": {},
   "outputs": [
    {
     "data": {
      "text/plain": [
       "0.8337114091924009"
      ]
     },
     "execution_count": 58,
     "metadata": {},
     "output_type": "execute_result"
    }
   ],
   "source": [
    "reg.score(test_X, test_y)"
   ]
  },
  {
   "cell_type": "code",
   "execution_count": 59,
   "id": "e1028865",
   "metadata": {},
   "outputs": [],
   "source": [
    "predictions = reg.predict(test_X)"
   ]
  },
  {
   "cell_type": "code",
   "execution_count": 60,
   "id": "e71ec397",
   "metadata": {},
   "outputs": [
    {
     "data": {
      "text/plain": [
       "0.8337114091924009"
      ]
     },
     "execution_count": 60,
     "metadata": {},
     "output_type": "execute_result"
    }
   ],
   "source": [
    "r2_score(test_y, predictions)"
   ]
  },
  {
   "cell_type": "code",
   "execution_count": 61,
   "id": "6c350bd9",
   "metadata": {},
   "outputs": [],
   "source": [
    "import shap\n",
    "explainer = shap.Explainer(reg, train_X)\n",
    "shap_values = explainer(test_X)"
   ]
  },
  {
   "cell_type": "markdown",
   "id": "84f2cfbb",
   "metadata": {},
   "source": [
    "Лучшее качество модели получилось в связке:полиномиальные переменные второй степени + отбор лучших 5 фаторов по t статистике и стандартизация (хотя она особой роли не играет)</br>\n",
    "При кодировании категориальных переменных получается странная ситуация, когда на тренировочной выборке получаем хорошее значение (0,98 где-то), но на тестовой с моделью происходит что-то странное"
   ]
  },
  {
   "cell_type": "code",
   "execution_count": null,
   "id": "6a7c652b",
   "metadata": {},
   "outputs": [],
   "source": []
  },
  {
   "cell_type": "code",
   "execution_count": null,
   "id": "04f2216a",
   "metadata": {},
   "outputs": [],
   "source": []
  },
  {
   "cell_type": "code",
   "execution_count": null,
   "id": "048b45c7",
   "metadata": {},
   "outputs": [],
   "source": []
  }
 ],
 "metadata": {
  "kernelspec": {
   "display_name": "Python 3 (ipykernel)",
   "language": "python",
   "name": "python3"
  },
  "language_info": {
   "codemirror_mode": {
    "name": "ipython",
    "version": 3
   },
   "file_extension": ".py",
   "mimetype": "text/x-python",
   "name": "python",
   "nbconvert_exporter": "python",
   "pygments_lexer": "ipython3",
   "version": "3.9.13"
  }
 },
 "nbformat": 4,
 "nbformat_minor": 5
}
